{
 "cells": [
  {
   "cell_type": "code",
   "execution_count": null,
   "metadata": {},
   "outputs": [],
   "source": [
    "from utils import create_imdb_dataloaders\n",
    "from torch import optim\n",
    "import torch\n",
    "import torch.nn as nn"
   ]
  },
  {
   "cell_type": "markdown",
   "metadata": {},
   "source": [
    "# Download and load IMDB dataset from Stanford dataset"
   ]
  },
  {
   "cell_type": "code",
   "execution_count": 1,
   "metadata": {},
   "outputs": [
    {
     "name": "stdout",
     "output_type": "stream",
     "text": [
      "  % Total    % Received % Xferd  Average Speed   Time    Time     Time  Current\n",
      "                                 Dload  Upload   Total   Spent    Left  Speed\n",
      "100 80.2M  100 80.2M    0     0  4398k      0  0:00:18  0:00:17  0:00:01 5510k2M   69 55.4M    0     0  4094k      0  0:00:20  0:00:13  0:00:07 5411k    0  4444k      0  0:00:18  0:00:18 --:--:-- 5495k\n"
     ]
    }
   ],
   "source": [
    "!curl -O https://ai.stanford.edu/~amaas/data/sentiment/aclImdb_v1.tar.gz"
   ]
  },
  {
   "cell_type": "code",
   "execution_count": 9,
   "metadata": {},
   "outputs": [],
   "source": [
    "!tar -xf aclImdb_v1.tar.gz"
   ]
  },
  {
   "cell_type": "code",
   "execution_count": null,
   "metadata": {},
   "outputs": [],
   "source": [
    "train_dir = \"aclImdb/train\"\n",
    "train_dataloader, vocab = create_imdb_dataloaders(train_dir)"
   ]
  },
  {
   "cell_type": "code",
   "execution_count": null,
   "metadata": {},
   "outputs": [],
   "source": [
    "test_dir = \"aclImdb/test\"\n",
    "test_dataloader, vocab = create_imdb_dataloaders(test_dir)"
   ]
  },
  {
   "cell_type": "markdown",
   "metadata": {},
   "source": [
    "# Define transformer model for classification 0 to 1"
   ]
  },
  {
   "cell_type": "code",
   "execution_count": 6,
   "metadata": {},
   "outputs": [],
   "source": [
    "from transformer_encoder import TransformerEncoder\n",
    "from positional_embedding import PositionalEmbedding\n",
    "\n",
    "class Transformer(nn.Module):\n",
    "    def __init__(self, embed_dim, dense_dim, num_heads, vocab_size, **kwargs):\n",
    "        super(Transformer, self).__init__()\n",
    "\n",
    "        self.embedding = PositionalEmbedding(vocab_size, embed_dim)\n",
    "\n",
    "        self.encoder = TransformerEncoder(embed_dim, dense_dim, num_heads)\n",
    "\n",
    "        self.global_max_pool = nn.AdaptiveMaxPool1d(1)\n",
    "        self.out = nn.Linear(embed_dim, 1)\n",
    "        self.sigmoid = nn.Sigmoid()\n",
    "\n",
    "    def forward(self, text, mask=None):\n",
    "        embedded = self.embedding(text)\n",
    "        encoder_output = self.encoder(embedded, mask)\n",
    "        output = encoder_output.max(dim=1)[0]\n",
    "        output = output.squeeze(-1)\n",
    "        output = self.out(output)\n",
    "        output = self.sigmoid(output)\n",
    "        return output"
   ]
  },
  {
   "cell_type": "code",
   "execution_count": 7,
   "metadata": {},
   "outputs": [
    {
     "name": "stderr",
     "output_type": "stream",
     "text": [
      "/home/ivan/.local/lib/python3.10/site-packages/tqdm/auto.py:21: TqdmWarning: IProgress not found. Please update jupyter and ipywidgets. See https://ipywidgets.readthedocs.io/en/stable/user_install.html\n",
      "  from .autonotebook import tqdm as notebook_tqdm\n"
     ]
    }
   ],
   "source": [
    "device = torch.device(\"cuda\" if torch.cuda.is_available() else \"cpu\")\n",
    "\n",
    "embed_dim = 128\n",
    "num_heads = 2\n",
    "dense_dim = 32\n",
    "\n",
    "transformer = Transformer(embed_dim, dense_dim, num_heads, 20000).to(device)\n",
    "\n",
    "rmsprop = optim.RMSprop(params=transformer.parameters(), lr=0.0001)\n",
    "criterion = nn.BCELoss()"
   ]
  },
  {
   "cell_type": "markdown",
   "metadata": {},
   "source": [
    "# Training"
   ]
  },
  {
   "cell_type": "code",
   "execution_count": 8,
   "metadata": {},
   "outputs": [
    {
     "name": "stdout",
     "output_type": "stream",
     "text": [
      "Epoch: 1, Loss: 0.7373784780502319, Accuracy: 52.952\n",
      "Epoch: 2, Loss: 0.63242107629776, Accuracy: 62.928\n",
      "Epoch: 3, Loss: 0.44436052441596985, Accuracy: 69.34\n",
      "Epoch: 4, Loss: 0.4980710446834564, Accuracy: 72.14\n",
      "Epoch: 5, Loss: 0.29597508907318115, Accuracy: 74.856\n",
      "Epoch: 6, Loss: 0.3648530840873718, Accuracy: 77.164\n",
      "Epoch: 7, Loss: 0.5637338757514954, Accuracy: 78.928\n",
      "Epoch: 8, Loss: 0.3411375880241394, Accuracy: 80.744\n",
      "Epoch: 9, Loss: 0.2823878824710846, Accuracy: 82.216\n",
      "Epoch: 10, Loss: 0.2987263798713684, Accuracy: 83.532\n"
     ]
    }
   ],
   "source": [
    "for epoch in range(10):\n",
    "    transformer.train()\n",
    "    correct_predictions = 0\n",
    "    total_predictions = 0\n",
    "\n",
    "\n",
    "    for batch in train_dataloader:\n",
    "        text, label = batch\n",
    "\n",
    "        rmsprop.zero_grad()\n",
    "\n",
    "        output = transformer(text.to(device))\n",
    "\n",
    "        loss = criterion(output[:, 0], label.to(device).float())\n",
    "\n",
    "        correct_predictions += (output[:, 0] > 0.5).eq(label.to(device)).sum().item()\n",
    "        total_predictions += len(label)\n",
    "\n",
    "\n",
    "        loss.backward()\n",
    "        rmsprop.step()\n",
    "\n",
    "\n",
    "    print(f\"Epoch: {epoch+1}, Loss: {loss.item()}, Accuracy: {correct_predictions / total_predictions * 100}\")\n"
   ]
  },
  {
   "cell_type": "code",
   "execution_count": 9,
   "metadata": {},
   "outputs": [
    {
     "name": "stdout",
     "output_type": "stream",
     "text": [
      "Loss: 1.269362211227417, Accuracy: 53.068000000000005\n"
     ]
    }
   ],
   "source": [
    "correct_predictions = 0\n",
    "total_predictions = 0\n",
    "for batch in test_dataloader:\n",
    "    text, label = batch\n",
    "\n",
    "    output = transformer(text.to(device))\n",
    "\n",
    "    loss = criterion(output[:, 0], label.to(device).float())\n",
    "\n",
    "    correct_predictions += (output[:, 0] > 0.5).eq(label.to(device)).sum().item()\n",
    "    total_predictions += len(label)\n",
    "\n",
    "print(f\"Loss: {loss.item()}, Accuracy: {correct_predictions / total_predictions * 100}\")"
   ]
  },
  {
   "cell_type": "markdown",
   "metadata": {},
   "source": [
    "# AG News dataset"
   ]
  },
  {
   "cell_type": "code",
   "execution_count": 1,
   "metadata": {},
   "outputs": [],
   "source": [
    "from utils import create_ag_dataloader\n",
    "\n",
    "\n",
    "train_dataloader, vocab = create_ag_dataloader(\"ag_news/train.csv\")"
   ]
  },
  {
   "cell_type": "code",
   "execution_count": 2,
   "metadata": {},
   "outputs": [
    {
     "name": "stdout",
     "output_type": "stream",
     "text": [
      "tensor([[9691, 3373,    9,  ...,    0,    0,    0],\n",
      "        [ 844,    6, 1568,  ...,    0,    0,    0],\n",
      "        [ 189,   97, 8637,  ...,    0,    0,    0],\n",
      "        ...,\n",
      "        [   3, 2342,   11,  ...,    0,    0,    0],\n",
      "        [2353, 2196,  240,  ...,    0,    0,    0],\n",
      "        [8872, 6664,   17,  ...,    0,    0,    0]]) tensor([[0, 1, 0, 0],\n",
      "        [0, 1, 0, 0],\n",
      "        [0, 0, 0, 1],\n",
      "        [0, 0, 0, 1],\n",
      "        [0, 1, 0, 0],\n",
      "        [0, 0, 1, 0],\n",
      "        [0, 0, 1, 0],\n",
      "        [0, 0, 1, 0],\n",
      "        [0, 1, 0, 0],\n",
      "        [0, 0, 0, 1],\n",
      "        [0, 0, 0, 1],\n",
      "        [0, 0, 1, 0],\n",
      "        [0, 1, 0, 0],\n",
      "        [0, 0, 1, 0],\n",
      "        [0, 0, 1, 0],\n",
      "        [0, 1, 0, 0],\n",
      "        [0, 0, 1, 0],\n",
      "        [0, 1, 0, 0],\n",
      "        [1, 0, 0, 0],\n",
      "        [0, 1, 0, 0],\n",
      "        [0, 0, 1, 0],\n",
      "        [0, 0, 0, 1],\n",
      "        [1, 0, 0, 0],\n",
      "        [0, 0, 1, 0],\n",
      "        [0, 0, 1, 0],\n",
      "        [0, 1, 0, 0],\n",
      "        [0, 0, 0, 1],\n",
      "        [0, 0, 0, 1],\n",
      "        [0, 0, 0, 1],\n",
      "        [0, 0, 0, 1],\n",
      "        [0, 1, 0, 0],\n",
      "        [1, 0, 0, 0]])\n"
     ]
    }
   ],
   "source": [
    "for batch in train_dataloader:\n",
    "    label, text = batch\n",
    "    print(label, text)\n",
    "    break"
   ]
  }
 ],
 "metadata": {
  "kernelspec": {
   "display_name": "Python 3",
   "language": "python",
   "name": "python3"
  },
  "language_info": {
   "codemirror_mode": {
    "name": "ipython",
    "version": 3
   },
   "file_extension": ".py",
   "mimetype": "text/x-python",
   "name": "python",
   "nbconvert_exporter": "python",
   "pygments_lexer": "ipython3",
   "version": "3.10.12"
  }
 },
 "nbformat": 4,
 "nbformat_minor": 2
}
