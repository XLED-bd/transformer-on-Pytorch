{
 "cells": [
  {
   "cell_type": "code",
   "execution_count": 1,
   "metadata": {},
   "outputs": [
    {
     "name": "stdout",
     "output_type": "stream",
     "text": [
      "  % Total    % Received % Xferd  Average Speed   Time    Time     Time  Current\n",
      "                                 Dload  Upload   Total   Spent    Left  Speed\n",
      "100 80.2M  100 80.2M    0     0  4398k      0  0:00:18  0:00:17  0:00:01 5510k2M   69 55.4M    0     0  4094k      0  0:00:20  0:00:13  0:00:07 5411k    0  4444k      0  0:00:18  0:00:18 --:--:-- 5495k\n"
     ]
    }
   ],
   "source": [
    "!curl -O https://ai.stanford.edu/~amaas/data/sentiment/aclImdb_v1.tar.gz"
   ]
  },
  {
   "cell_type": "code",
   "execution_count": 2,
   "metadata": {},
   "outputs": [],
   "source": [
    "!tar -xf aclImdb_v1.tar.gz"
   ]
  },
  {
   "cell_type": "code",
   "execution_count": null,
   "metadata": {},
   "outputs": [],
   "source": [
    "from utils import create_dataloaders\n",
    "from torch import optim\n",
    "import torch\n",
    "import torch.nn as nn"
   ]
  },
  {
   "cell_type": "code",
   "execution_count": null,
   "metadata": {},
   "outputs": [],
   "source": [
    "from transformer import Transformer"
   ]
  },
  {
   "cell_type": "code",
   "execution_count": 3,
   "metadata": {},
   "outputs": [],
   "source": [
    "train_dir = \"aclImdb/train\"\n",
    "train_dataloader, vocab = create_dataloaders(train_dir)"
   ]
  },
  {
   "cell_type": "code",
   "execution_count": 4,
   "metadata": {},
   "outputs": [],
   "source": [
    "embed_dim = 256\n",
    "num_heads = 2\n",
    "dense_dim = 32"
   ]
  },
  {
   "cell_type": "code",
   "execution_count": 12,
   "metadata": {},
   "outputs": [],
   "source": [
    "device = torch.device(\"cuda\" if torch.cuda.is_available() else \"cpu\")"
   ]
  },
  {
   "cell_type": "code",
   "execution_count": null,
   "metadata": {},
   "outputs": [
    {
     "name": "stdout",
     "output_type": "stream",
     "text": [
      "Epoch: 1, Loss: 0.6343477964401245, Accuracy: 1603.0639999999999\n",
      "Epoch: 2, Loss: 0.4892823398113251, Accuracy: 1614.952\n",
      "Epoch: 3, Loss: 0.8335697054862976, Accuracy: 1623.7359999999999\n",
      "Epoch: 4, Loss: 0.391914427280426, Accuracy: 1627.1280000000002\n",
      "Epoch: 5, Loss: 0.3030451238155365, Accuracy: 1632.696\n",
      "Epoch: 6, Loss: 0.3506361246109009, Accuracy: 1636.1920000000002\n",
      "Epoch: 7, Loss: 0.0925055742263794, Accuracy: 1632.696\n",
      "Epoch: 8, Loss: 0.20944052934646606, Accuracy: 1636.4560000000001\n"
     ]
    },
    {
     "ename": "KeyboardInterrupt",
     "evalue": "",
     "output_type": "error",
     "traceback": [
      "\u001b[0;31m---------------------------------------------------------------------------\u001b[0m",
      "\u001b[0;31mKeyboardInterrupt\u001b[0m                         Traceback (most recent call last)",
      "Cell \u001b[0;32mIn[62], line 28\u001b[0m\n\u001b[1;32m     25\u001b[0m     rmsprop\u001b[38;5;241m.\u001b[39mstep()\n\u001b[1;32m     27\u001b[0m     predicted_labels \u001b[38;5;241m=\u001b[39m (output \u001b[38;5;241m>\u001b[39m\u001b[38;5;241m=\u001b[39m \u001b[38;5;241m0.5\u001b[39m)\u001b[38;5;241m.\u001b[39mfloat()\n\u001b[0;32m---> 28\u001b[0m     correct_predictions \u001b[38;5;241m+\u001b[39m\u001b[38;5;241m=\u001b[39m (predicted_labels \u001b[38;5;241m==\u001b[39m \u001b[43mlabel\u001b[49m\u001b[38;5;241;43m.\u001b[39;49m\u001b[43mto\u001b[49m\u001b[43m(\u001b[49m\u001b[43mdevice\u001b[49m\u001b[43m)\u001b[49m\u001b[38;5;241m.\u001b[39mfloat())\u001b[38;5;241m.\u001b[39msum()\u001b[38;5;241m.\u001b[39mitem()\n\u001b[1;32m     29\u001b[0m     total_predictions \u001b[38;5;241m+\u001b[39m\u001b[38;5;241m=\u001b[39m label\u001b[38;5;241m.\u001b[39msize(\u001b[38;5;241m0\u001b[39m)\n\u001b[1;32m     32\u001b[0m epoch_accuracy \u001b[38;5;241m=\u001b[39m correct_predictions \u001b[38;5;241m/\u001b[39m total_predictions \u001b[38;5;241m*\u001b[39m \u001b[38;5;241m100\u001b[39m\n",
      "\u001b[0;31mKeyboardInterrupt\u001b[0m: "
     ]
    }
   ],
   "source": [
    "transformer = Transformer(embed_dim, dense_dim, num_heads, 20000).to(device)\n",
    "\n",
    "rmsprop = optim.RMSprop(params=transformer.parameters(), lr=0.0001)\n",
    "criterion = nn.BCELoss()\n",
    "\n",
    "for epoch in range(10000):\n",
    "    transformer.train()\n",
    "    correct_predictions = 0\n",
    "    total_predictions = 0\n",
    "\n",
    "\n",
    "    for batch in train_dataloader:\n",
    "        text, label = batch\n",
    "\n",
    "        rmsprop.zero_grad()\n",
    "\n",
    "        output = transformer(text.to(device))\n",
    "\n",
    "        loss = criterion(output[:, 0], label.to(device).float())\n",
    "\n",
    "        #print(output, label)\n",
    "\n",
    "        loss.backward()\n",
    "        rmsprop.step()\n",
    "\n",
    "\n",
    "    print(f\"Epoch: {epoch+1}, Loss: {loss.item()}, Accuracy: {epoch_accuracy}\")\n"
   ]
  },
  {
   "cell_type": "code",
   "execution_count": 65,
   "metadata": {},
   "outputs": [
    {
     "name": "stdout",
     "output_type": "stream",
     "text": [
      "0 = tensor([0.1268], device='cuda:0', grad_fn=<SelectBackward0>)\n",
      "1 = tensor([0.5600], device='cuda:0', grad_fn=<SelectBackward0>)\n",
      "1 = tensor([0.9752], device='cuda:0', grad_fn=<SelectBackward0>)\n",
      "0 = tensor([0.0039], device='cuda:0', grad_fn=<SelectBackward0>)\n",
      "0 = tensor([0.0765], device='cuda:0', grad_fn=<SelectBackward0>)\n",
      "0 = tensor([0.1577], device='cuda:0', grad_fn=<SelectBackward0>)\n",
      "0 = tensor([0.0206], device='cuda:0', grad_fn=<SelectBackward0>)\n",
      "1 = tensor([0.9866], device='cuda:0', grad_fn=<SelectBackward0>)\n",
      "1 = tensor([0.8899], device='cuda:0', grad_fn=<SelectBackward0>)\n",
      "1 = tensor([0.7909], device='cuda:0', grad_fn=<SelectBackward0>)\n",
      "0 = tensor([0.0369], device='cuda:0', grad_fn=<SelectBackward0>)\n",
      "0 = tensor([0.0007], device='cuda:0', grad_fn=<SelectBackward0>)\n",
      "1 = tensor([0.8096], device='cuda:0', grad_fn=<SelectBackward0>)\n",
      "0 = tensor([0.0061], device='cuda:0', grad_fn=<SelectBackward0>)\n",
      "1 = tensor([0.9883], device='cuda:0', grad_fn=<SelectBackward0>)\n",
      "1 = tensor([0.9041], device='cuda:0', grad_fn=<SelectBackward0>)\n",
      "0 = tensor([0.0046], device='cuda:0', grad_fn=<SelectBackward0>)\n",
      "0 = tensor([0.0298], device='cuda:0', grad_fn=<SelectBackward0>)\n",
      "0 = tensor([0.0171], device='cuda:0', grad_fn=<SelectBackward0>)\n",
      "1 = tensor([0.5688], device='cuda:0', grad_fn=<SelectBackward0>)\n",
      "0 = tensor([0.4459], device='cuda:0', grad_fn=<SelectBackward0>)\n",
      "0 = tensor([0.5524], device='cuda:0', grad_fn=<SelectBackward0>)\n",
      "0 = tensor([0.0224], device='cuda:0', grad_fn=<SelectBackward0>)\n",
      "1 = tensor([0.9469], device='cuda:0', grad_fn=<SelectBackward0>)\n",
      "0 = tensor([0.0957], device='cuda:0', grad_fn=<SelectBackward0>)\n",
      "0 = tensor([0.2563], device='cuda:0', grad_fn=<SelectBackward0>)\n",
      "0 = tensor([0.4981], device='cuda:0', grad_fn=<SelectBackward0>)\n",
      "1 = tensor([0.9581], device='cuda:0', grad_fn=<SelectBackward0>)\n",
      "0 = tensor([0.0120], device='cuda:0', grad_fn=<SelectBackward0>)\n",
      "0 = tensor([0.1013], device='cuda:0', grad_fn=<SelectBackward0>)\n",
      "0 = tensor([0.4667], device='cuda:0', grad_fn=<SelectBackward0>)\n",
      "1 = tensor([0.7453], device='cuda:0', grad_fn=<SelectBackward0>)\n"
     ]
    }
   ],
   "source": [
    "for batch in train_dataloader:\n",
    "    text, label = batch\n",
    "    output = transformer(text.to(device))\n",
    "    for i in range(0, len(label)):\n",
    "        print(f\"{label[i]} = {output[i]}\")\n",
    "    break\n"
   ]
  }
 ],
 "metadata": {
  "kernelspec": {
   "display_name": "Python 3",
   "language": "python",
   "name": "python3"
  },
  "language_info": {
   "codemirror_mode": {
    "name": "ipython",
    "version": 3
   },
   "file_extension": ".py",
   "mimetype": "text/x-python",
   "name": "python",
   "nbconvert_exporter": "python",
   "pygments_lexer": "ipython3",
   "version": "3.10.12"
  }
 },
 "nbformat": 4,
 "nbformat_minor": 2
}
