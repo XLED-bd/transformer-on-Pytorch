{
 "cells": [
  {
   "cell_type": "code",
   "execution_count": 1,
   "metadata": {},
   "outputs": [
    {
     "name": "stdout",
     "output_type": "stream",
     "text": [
      "  % Total    % Received % Xferd  Average Speed   Time    Time     Time  Current\n",
      "                                 Dload  Upload   Total   Spent    Left  Speed\n",
      "100 80.2M  100 80.2M    0     0  4398k      0  0:00:18  0:00:17  0:00:01 5510k2M   69 55.4M    0     0  4094k      0  0:00:20  0:00:13  0:00:07 5411k    0  4444k      0  0:00:18  0:00:18 --:--:-- 5495k\n"
     ]
    }
   ],
   "source": [
    "!curl -O https://ai.stanford.edu/~amaas/data/sentiment/aclImdb_v1.tar.gz"
   ]
  },
  {
   "cell_type": "code",
   "execution_count": 9,
   "metadata": {},
   "outputs": [],
   "source": [
    "!tar -xf aclImdb_v1.tar.gz"
   ]
  },
  {
   "cell_type": "code",
   "execution_count": null,
   "metadata": {},
   "outputs": [],
   "source": [
    "from utils import create_dataloaders\n",
    "from torch import optim\n",
    "import torch\n",
    "import torch.nn as nn"
   ]
  },
  {
   "cell_type": "code",
   "execution_count": 2,
   "metadata": {},
   "outputs": [],
   "source": [
    "from transformer import Transformer"
   ]
  },
  {
   "cell_type": "code",
   "execution_count": 3,
   "metadata": {},
   "outputs": [],
   "source": [
    "train_dir = \"aclImdb/train\"\n",
    "train_dataloader, vocab = create_dataloaders(train_dir)"
   ]
  },
  {
   "cell_type": "code",
   "execution_count": 11,
   "metadata": {},
   "outputs": [],
   "source": [
    "test_dir = \"aclImdb/test\"\n",
    "test_dataloader, vocab = create_dataloaders(test_dir)"
   ]
  },
  {
   "cell_type": "code",
   "execution_count": 4,
   "metadata": {},
   "outputs": [],
   "source": [
    "embed_dim = 128\n",
    "num_heads = 2\n",
    "dense_dim = 32"
   ]
  },
  {
   "cell_type": "code",
   "execution_count": 5,
   "metadata": {},
   "outputs": [],
   "source": [
    "device = torch.device(\"cuda\" if torch.cuda.is_available() else \"cpu\")"
   ]
  },
  {
   "cell_type": "code",
   "execution_count": 6,
   "metadata": {},
   "outputs": [
    {
     "name": "stderr",
     "output_type": "stream",
     "text": [
      "/home/ivan/.local/lib/python3.10/site-packages/tqdm/auto.py:21: TqdmWarning: IProgress not found. Please update jupyter and ipywidgets. See https://ipywidgets.readthedocs.io/en/stable/user_install.html\n",
      "  from .autonotebook import tqdm as notebook_tqdm\n"
     ]
    }
   ],
   "source": [
    "transformer = Transformer(embed_dim, dense_dim, num_heads, 20000).to(device)\n",
    "\n",
    "rmsprop = optim.RMSprop(params=transformer.parameters(), lr=0.0001)\n",
    "criterion = nn.BCELoss()"
   ]
  },
  {
   "cell_type": "code",
   "execution_count": 8,
   "metadata": {},
   "outputs": [
    {
     "name": "stdout",
     "output_type": "stream",
     "text": [
      "Epoch: 1, Loss: 0.755528450012207, Accuracy: 65.704\n",
      "Epoch: 2, Loss: 0.41941702365875244, Accuracy: 76.40400000000001\n",
      "Epoch: 3, Loss: 0.7098008990287781, Accuracy: 79.264\n",
      "Epoch: 4, Loss: 0.21520844101905823, Accuracy: 80.92399999999999\n",
      "Epoch: 5, Loss: 0.24022485315799713, Accuracy: 82.3\n",
      "Epoch: 6, Loss: 0.4465942680835724, Accuracy: 83.62\n",
      "Epoch: 7, Loss: 0.2621346414089203, Accuracy: 84.46000000000001\n",
      "Epoch: 8, Loss: 0.33821406960487366, Accuracy: 85.528\n",
      "Epoch: 9, Loss: 0.42349013686180115, Accuracy: 86.468\n",
      "Epoch: 10, Loss: 0.4106876254081726, Accuracy: 87.2\n"
     ]
    }
   ],
   "source": [
    "for epoch in range(10):\n",
    "    transformer.train()\n",
    "    correct_predictions = 0\n",
    "    total_predictions = 0\n",
    "\n",
    "\n",
    "    for batch in train_dataloader:\n",
    "        text, label = batch\n",
    "\n",
    "        rmsprop.zero_grad()\n",
    "\n",
    "        output = transformer(text.to(device))\n",
    "\n",
    "        loss = criterion(output[:, 0], label.to(device).float())\n",
    "\n",
    "        correct_predictions += (output[:, 0] > 0.5).eq(label.to(device)).sum().item()\n",
    "        total_predictions += len(label)\n",
    "\n",
    "\n",
    "        loss.backward()\n",
    "        rmsprop.step()\n",
    "\n",
    "\n",
    "    print(f\"Epoch: {epoch+1}, Loss: {loss.item()}, Accuracy: {correct_predictions / total_predictions * 100}\")\n"
   ]
  },
  {
   "cell_type": "code",
   "execution_count": 12,
   "metadata": {},
   "outputs": [
    {
     "name": "stdout",
     "output_type": "stream",
     "text": [
      "Loss: 0.6401382684707642, Accuracy: 71.37400000000001\n"
     ]
    }
   ],
   "source": [
    "for batch in test_dataloader:\n",
    "    text, label = batch\n",
    "\n",
    "    output = transformer(text.to(device))\n",
    "\n",
    "    loss = criterion(output[:, 0], label.to(device).float())\n",
    "\n",
    "    correct_predictions += (output[:, 0] > 0.5).eq(label.to(device)).sum().item()\n",
    "    total_predictions += len(label)\n",
    "\n",
    "print(f\"Loss: {loss.item()}, Accuracy: {correct_predictions / total_predictions * 100}\")"
   ]
  },
  {
   "cell_type": "code",
   "execution_count": 13,
   "metadata": {},
   "outputs": [
    {
     "name": "stdout",
     "output_type": "stream",
     "text": [
      "0 = tensor([0.0804], device='cuda:0', grad_fn=<SelectBackward0>)\n",
      "1 = tensor([0.1118], device='cuda:0', grad_fn=<SelectBackward0>)\n",
      "0 = tensor([0.8333], device='cuda:0', grad_fn=<SelectBackward0>)\n",
      "0 = tensor([0.0269], device='cuda:0', grad_fn=<SelectBackward0>)\n",
      "0 = tensor([0.0905], device='cuda:0', grad_fn=<SelectBackward0>)\n",
      "0 = tensor([0.5994], device='cuda:0', grad_fn=<SelectBackward0>)\n",
      "0 = tensor([0.0601], device='cuda:0', grad_fn=<SelectBackward0>)\n",
      "1 = tensor([0.9812], device='cuda:0', grad_fn=<SelectBackward0>)\n",
      "0 = tensor([0.7614], device='cuda:0', grad_fn=<SelectBackward0>)\n",
      "0 = tensor([0.2487], device='cuda:0', grad_fn=<SelectBackward0>)\n",
      "1 = tensor([0.9743], device='cuda:0', grad_fn=<SelectBackward0>)\n",
      "1 = tensor([0.0267], device='cuda:0', grad_fn=<SelectBackward0>)\n",
      "0 = tensor([0.2873], device='cuda:0', grad_fn=<SelectBackward0>)\n",
      "0 = tensor([0.0298], device='cuda:0', grad_fn=<SelectBackward0>)\n",
      "0 = tensor([0.0791], device='cuda:0', grad_fn=<SelectBackward0>)\n",
      "0 = tensor([0.1406], device='cuda:0', grad_fn=<SelectBackward0>)\n",
      "1 = tensor([0.7444], device='cuda:0', grad_fn=<SelectBackward0>)\n",
      "0 = tensor([0.7108], device='cuda:0', grad_fn=<SelectBackward0>)\n",
      "0 = tensor([0.0882], device='cuda:0', grad_fn=<SelectBackward0>)\n",
      "0 = tensor([0.8677], device='cuda:0', grad_fn=<SelectBackward0>)\n",
      "0 = tensor([0.3307], device='cuda:0', grad_fn=<SelectBackward0>)\n",
      "1 = tensor([0.0902], device='cuda:0', grad_fn=<SelectBackward0>)\n",
      "0 = tensor([0.8985], device='cuda:0', grad_fn=<SelectBackward0>)\n",
      "1 = tensor([0.8976], device='cuda:0', grad_fn=<SelectBackward0>)\n",
      "1 = tensor([0.1777], device='cuda:0', grad_fn=<SelectBackward0>)\n",
      "1 = tensor([0.3671], device='cuda:0', grad_fn=<SelectBackward0>)\n",
      "1 = tensor([0.6380], device='cuda:0', grad_fn=<SelectBackward0>)\n",
      "0 = tensor([0.2424], device='cuda:0', grad_fn=<SelectBackward0>)\n",
      "0 = tensor([0.7263], device='cuda:0', grad_fn=<SelectBackward0>)\n",
      "1 = tensor([0.9258], device='cuda:0', grad_fn=<SelectBackward0>)\n",
      "1 = tensor([0.7070], device='cuda:0', grad_fn=<SelectBackward0>)\n",
      "0 = tensor([0.4010], device='cuda:0', grad_fn=<SelectBackward0>)\n"
     ]
    }
   ],
   "source": [
    "for batch in test_dataloader:\n",
    "    text, label = batch\n",
    "    output = transformer(text.to(device))\n",
    "    for i in range(0, len(label)):\n",
    "        print(f\"{label[i]} = {output[i]}\")\n",
    "    break\n"
   ]
  }
 ],
 "metadata": {
  "kernelspec": {
   "display_name": "Python 3",
   "language": "python",
   "name": "python3"
  },
  "language_info": {
   "codemirror_mode": {
    "name": "ipython",
    "version": 3
   },
   "file_extension": ".py",
   "mimetype": "text/x-python",
   "name": "python",
   "nbconvert_exporter": "python",
   "pygments_lexer": "ipython3",
   "version": "3.10.12"
  }
 },
 "nbformat": 4,
 "nbformat_minor": 2
}
